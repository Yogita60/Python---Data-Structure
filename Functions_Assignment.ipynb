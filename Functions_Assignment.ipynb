{
  "nbformat": 4,
  "nbformat_minor": 0,
  "metadata": {
    "colab": {
      "provenance": []
    },
    "kernelspec": {
      "name": "python3",
      "display_name": "Python 3"
    },
    "language_info": {
      "name": "python"
    }
  },
  "cells": [
    {
      "cell_type": "code",
      "execution_count": null,
      "metadata": {
        "id": "3In7JyCaIcel"
      },
      "outputs": [],
      "source": []
    },
    {
      "cell_type": "markdown",
      "source": [
        "Functions Assignment (Theory Questions)"
      ],
      "metadata": {
        "id": "OmfQlyEwIjYk"
      }
    },
    {
      "cell_type": "markdown",
      "source": [
        "(1) What is the difference between a function and a method in Python?\n",
        "Ans: Functions and methods are both blocks of reusable code, but they differ in how they are defined and used:\n",
        "1. Function:\n",
        "Defined using the def keyword.\n",
        "Can exist independently of any class.\n",
        "Called directly by name (e.g., my_function()).\n",
        "Example:\n",
        "def greet(name):\n",
        "    return f\"Hello, {name}\"\n",
        "print(greet(\"Alice\"))\n",
        "\n",
        "2. Method:\n",
        "A function defined inside a class.\n",
        "Automatically takes the instance (self) as its first parameter (for instance methods).\n",
        "Called on an object (e.g., my_object.method()).\n",
        "Example:\n",
        "class Greeter:\n",
        "    def greet(self, name):\n",
        "        return f\"Hello, {name}\"\n",
        "g = Greeter()\n",
        "print(g.greet(\"Alice\"))"
      ],
      "metadata": {
        "id": "OyB6g4MyIvN4"
      }
    },
    {
      "cell_type": "markdown",
      "source": [
        "(2) Explain the concept of function arguments and parameters in Python.\n",
        "Ans: Parameters and arguments are related but distinct concepts used in the context of functions:\n",
        "Parameters:\n",
        "The variables listed inside the parentheses in the function definition.\n",
        "They are placeholders for the values that will be passed when the function is called.\n",
        "Example:\n",
        "def greet(name):  # 'name' is a parameter\n",
        "    print(f\"Hello, {name}\")\n",
        "\n",
        "Arguments:\n",
        "The actual values you pass to the function when calling it.\n",
        "These are assigned to the parameters.\n",
        "Example:\n",
        "greet(\"Alice\")  # \"Alice\" is the argument\n",
        "\n",
        "Types of Function Arguments:\n",
        "Python supports several types of arguments:\n",
        "1. Positional arguments – Values assigned in order.\n",
        "2. Keyword arguments – Values assigned by name."
      ],
      "metadata": {
        "id": "Po6bLEyxJ0-C"
      }
    },
    {
      "cell_type": "markdown",
      "source": [
        "(3) What are the different ways to define and call a function in Python?\n",
        "Ans: There are several ways to define and call functions, ranging from basic to more advanced styles.\n",
        "1. Standard Function Definition\n",
        "Definition:\n",
        "def greet(name):\n",
        "    print(f\"Hello, {name}\")\n",
        "Call:\n",
        "greet(\"Alice\")\n",
        "2. Function with Default Arguments\n",
        "Definition:\n",
        "def greet(name=\"Guest\"):\n",
        "    print(f\"Hello, {name}\")\n",
        "Call:\n",
        "greet()         # Uses default\n",
        "greet(\"Bob\")    # Overrides default\n",
        "3. Function with Positional and Keyword Arguments\n",
        "Definition:\n",
        "def describe_person(name, age):\n",
        "    print(f\"{name} is {age} years old.\")\n",
        "Call:\n",
        "describe_person(\"Alice\", 30)            # Positional\n",
        "describe_person(age=25, name=\"Bob\")     # Keyword\n",
        "4. Function with Variable-Length Arguments\n",
        "Definition:\n",
        "def add(*args):\n",
        "    print(sum(args))\n",
        "def print_info(**kwargs):\n",
        "    print(kwargs)\n",
        "Call:\n",
        "add(1, 2, 3)\n",
        "print_info(name=\"Alice\", age=30)\n",
        "5. Lambda Functions (Anonymous Functions)\n",
        "Definition & Call:\n",
        "square = lambda x: x * x\n",
        "print(square(4))\n",
        "6. Function as First-Class Object\n",
        "Functions can be passed around like variables:\n",
        "def shout(text):\n",
        "    return text.upper()\n",
        "def whisper(text):\n",
        "    return text.lower()\n",
        "def speak(style_func, message):\n",
        "    print(style_func(message))\n",
        "speak(shout, \"hello\")  # Passing function as argument\n",
        "7. Nested Functions\n",
        "def outer():\n",
        "    def inner():\n",
        "        print(\"Inner function\")\n",
        "    inner()\n",
        "outer()\n",
        "8. Using def Inside a Class (Method)\n",
        "class Greeter:\n",
        "    def greet(self, name):\n",
        "        print(f\"Hello, {name}\")"
      ],
      "metadata": {
        "id": "GcI3tuekMY7i"
      }
    },
    {
      "cell_type": "markdown",
      "source": [],
      "metadata": {
        "id": "G3BUzKODNR_u"
      }
    },
    {
      "cell_type": "markdown",
      "source": [
        "(4) What is the purpose of the `return` statement in a Python function?\n",
        "Ans: The return statement in a Python function serves the purpose of sending a result back to the caller and ending the function’s execution.\n",
        "Key Purposes:\n",
        "1. Return a value:\n",
        "It allows the function to output data that can be used elsewhere in the program.\n",
        "def add(a, b):\n",
        "    return a + b\n",
        "result = add(3, 4)\n",
        "print(result)  # Output: 7\n",
        "2. End the function early:\n",
        "return immediately exits the function, even if there is more code after it.\n",
        "def check_even(n):\n",
        "    if n % 2 == 0:\n",
        "        return True\n",
        "    return False\n",
        "3. Return multiple values:\n",
        "You can return multiple values as a tuple.\n",
        "def get_coordinates():\n",
        "    return 10, 20\n",
        "x, y = get_coordinates()\n",
        "4. Return nothing (None):\n",
        "If you omit return, the function returns None by default.\n",
        "def greet(name):\n",
        "    print(f\"Hello, {name}\")\n",
        "result = greet(\"Alice\")\n",
        "print(result)  # Output: None"
      ],
      "metadata": {
        "id": "UDrbtSxsNkF4"
      }
    },
    {
      "cell_type": "markdown",
      "source": [],
      "metadata": {
        "id": "aSIrkIR-giDB"
      }
    },
    {
      "cell_type": "markdown",
      "source": [
        "(5) What are iterators in Python and how do they differ from iterables?\n",
        "Ans:  Iterators are objects that allow you to traverse through all the elements of a collection, one element at a time, without needing to access them by index.\n",
        "An iterator must implement two methods:\n",
        "1. _iter_() – Returns the iterator object itself.\n",
        "2. _next_() – Returns the next value. Raises StopIteration when no more items.\n",
        "\n",
        "How Iterators Work\n",
        "Example using a built-in iterator:\n",
        "nums = [1, 2, 3]\n",
        "it = iter(nums)        # Get an iterator from the list\n",
        "print(next(it))        # Output: 1\n",
        "print(next(it))        # Output: 2\n",
        "print(next(it))        # Output: 3\n",
        "# next(it) now raises StopIteration\n",
        "Creating a Custom Iterator\n",
        "You can create your own iterator by defining a class with _iter() and __next_():\n",
        "class CountUpTo:\n",
        "    def _init_(self, max):\n",
        "        self.max = max\n",
        "        self.current = 1\n",
        "    def _iter_(self):\n",
        "        return self\n",
        "    def _next_(self):\n",
        "        if self.current > self.max:\n",
        "            raise StopIteration\n",
        "        val = self.current\n",
        "        self.current += 1\n",
        "        return val\n",
        "counter = CountUpTo(3)\n",
        "for num in counter:\n",
        "    print(num)   # Outputs 1, 2, 3"
      ],
      "metadata": {
        "id": "-7K2ns_0glmm"
      }
    },
    {
      "cell_type": "markdown",
      "source": [
        "(6) Explain the concept of generators in Python and how they are defined.\n",
        "Ans: Generators are a simple and powerful way to create iterators using a function that contains one or more yield statements.\n",
        "A generator is:\n",
        "A function that returns an iterator.\n",
        "Defined like a normal function but uses *yield* instead of *return*.\n",
        "It pauses at each yield and resumes where it left off when called again.\n",
        "Defining a Generator\n",
        "def count_up_to(n):\n",
        "    i = 1\n",
        "    while i <= n:\n",
        "        yield i\n",
        "        i += 1\n",
        "Calling the function doesn't run it but returns a generator object:\n",
        "counter = count_up_to(3)\n",
        "print(next(counter))  # Output: 1\n",
        "print(next(counter))  # Output: 2\n",
        "print(next(counter))  # Output: 3\n",
        "How It Works:\n",
        "On each call to next(), execution continues after the last yield.\n",
        "When the function ends, a StopIteration exception is raised automatically.\n",
        "Using Generators in Loops\n",
        "for num in count_up_to(3):\n",
        "    print(num)\n",
        "Generator Expressions (One-liners)\n",
        "Similar to list comprehensions, but with ():\n",
        "squares = (x * x for x in range(5))\n",
        "for sq in squares:\n",
        "    print(sq)\n",
        "\n",
        "Advantages of Generators\n",
        "Memory efficient: They yield items one at a time.\n",
        "Lazy evaluation: Values are computed only when needed.\n",
        "Ideal for processing large datasets or streams."
      ],
      "metadata": {
        "id": "KpCJFoJZhqc2"
      }
    },
    {
      "cell_type": "markdown",
      "source": [
        "(7) What are the advantages of using generators over regular functions?\n",
        "Ans: Using generators instead of regular functions in Python offers several key advantages, especially when working with large data or streams.\n",
        "1. Memory Efficiency\n",
        "Generators yield one item at a time without storing the entire result in memory.\n",
        "Regular functions that return lists hold the entire list in memory, which can be costly.\n",
        "Example:\n",
        "def gen_numbers():\n",
        "    for i in range(1000000):\n",
        "        yield i  # Uses almost no memory\n",
        "2. Lazy Evaluation\n",
        "Generators produce values on the fly, only when requested.\n",
        "This makes them ideal for infinite sequences or real-time data processing.\n",
        "3. Improved Performance\n",
        "Generators can start returning results immediately, unlike regular functions that wait to build the whole result.\n",
        "4. Clean and Maintainable Code\n",
        "You don't need to manually track internal state like you do with classes that implement _iter_ and _next_.\n",
        "The yield keyword simplifies logic in many scenarios.\n",
        "5. Composability with Other Generators\n",
        "You can chain or combine generators easily using generator expressions or nested functions."
      ],
      "metadata": {
        "id": "PbM_bkrpiYry"
      }
    },
    {
      "cell_type": "markdown",
      "source": [],
      "metadata": {
        "id": "2GjL0npcOIVV"
      }
    },
    {
      "cell_type": "markdown",
      "source": [
        "(8) What is a lambda function in Python and when is it typically used?\n",
        "Ans: A lambda function in Python is a small, anonymous function defined using the lambda keyword. It’s used when you need a simple, throwaway function—typically for short operations that are not reused elsewhere.\n",
        "Syntax:\n",
        "lambda arguments: expression\n",
        "Example:\n",
        "square = lambda x: x * x\n",
        "print(square(5))  # Output: 25\n",
        "When to Use Lambda Functions:\n",
        "1. Short, one-time functions where defining a full def function would be overkill.\n",
        "2. As arguments to higher-order functions, like:\n",
        "map(), filter(), sorted(), or reduce()\n",
        "Examples:\n",
        "Sorting by custom key:\n",
        "names = [\"Alice\", \"Bob\", \"Charlie\"]\n",
        "names.sort(key=lambda x: len(x))\n",
        "print(names)  # ['Bob', 'Alice', 'Charlie']\n",
        "Using map():\n",
        "nums = [1, 2, 3]\n",
        "squares = list(map(lambda x: x ** 2, nums))\n",
        "Using filter():\n",
        "even_nums = list(filter(lambda x: x % 2 == 0, nums))\n",
        "\n",
        "Limitations:\n",
        "Can only contain a single expression (no statements, loops, or assignments).\n",
        "Less readable for complex logic—use def in those cases."
      ],
      "metadata": {
        "id": "trUU1PTri3e1"
      }
    },
    {
      "cell_type": "markdown",
      "source": [
        "(9) Explain the purpose and usage of the `map()` function in Python.\n",
        "Ans: The map() function in Python is used to apply a function to every item in an iterable (like a list or tuple) and return a new iterable (a map object) with the transformed items.\n",
        "Purpose:\n",
        "To simplify the process of transforming data by applying a function to all elements in an iterable without using explicit loops.\n",
        "Syntax:\n",
        "map(function, iterable)\n",
        "function: a function to apply to each item (can be a regular function or a lambda).\n",
        "iterable: a sequence like a list, tuple, etc.\n",
        "Example 1: Using a Regular Function\n",
        "def square(x):\n",
        "    return x * x\n",
        "nums = [1, 2, 3, 4]\n",
        "result = map(square, nums)\n",
        "print(list(result))  # Output: [1, 4, 9, 16]\n",
        "Example 2: Using a Lambda Function\n",
        "nums = [1, 2, 3, 4]\n",
        "squares = map(lambda x: x**2, nums)\n",
        "print(list(squares))  # Output: [1, 4, 9, 16]\n",
        "\n",
        "Multiple Iterables\n",
        "You can pass more than one iterable if the function takes multiple arguments:\n",
        "a = [1, 2, 3]\n",
        "b = [4, 5, 6]\n",
        "result = map(lambda x, y: x + y, a, b)\n",
        "print(list(result))  # Output: [5, 7, 9]\n",
        "Key Points:\n",
        "map() returns a map object (an iterator), so you usually wrap it in list(), tuple(), or loop over it.\n",
        "More efficient than using a for loop for simple element-wise transformations."
      ],
      "metadata": {
        "id": "TyYyee4WjtBm"
      }
    },
    {
      "cell_type": "markdown",
      "source": [
        "(10) What is the difference between `map()`, `reduce()`, and `filter()` functions in Python?\n",
        "Ans: The map(), reduce(), and filter() functions are all used to apply a function to an iterable (like a list or tuple), but they serve different purposes. Here's a comparison of their behavior and typical use cases:\n",
        "1. map() Function\n",
        "Purpose: Applies a function to every element in an iterable and returns a new iterable (map object) with the transformed elements.\n",
        "Returns: A map object (iterator) that can be converted to a list or other iterable.\n",
        "Use case: When you want to transform or modify each item in an iterable.\n",
        "Example:\n",
        "nums = [1, 2, 3, 4]\n",
        "result = map(lambda x: x * 2, nums)\n",
        "print(list(result))  # Output: [2, 4, 6, 8]\n",
        "2. reduce() Function\n",
        "Purpose: Applies a binary function (a function that takes two arguments) cumulatively to the items in an iterable, reducing the iterable to a single value.\n",
        "Returns: A single value (result of applying the function cumulatively to all items).\n",
        "Use case: When you want to reduce the iterable to a single result, like summing up elements or calculating the product.\n",
        "Example:\n",
        "from functools import reduce\n",
        "nums = [1, 2, 3, 4]\n",
        "result = reduce(lambda x, y: x + y, nums)\n",
        "print(result)  # Output: 10 (1 + 2 + 3 + 4)\n",
        "3. filter() Function\n",
        "Purpose: Applies a function to each item in an iterable and returns an iterable containing only those items for which the function returns True (i.e., filters out items that don't satisfy the condition).\n",
        "Returns: A filter object (iterator) that can be converted to a list or other iterable.\n",
        "Use case: When you want to filter out elements from an iterable based on a condition.\n",
        "Example:\n",
        "nums = [1, 2, 3, 4, 5]\n",
        "result = filter(lambda x: x % 2 == 0, nums)\n",
        "print(list(result))  # Output: [2, 4]\n",
        "\n",
        "Summary of Differences:\n",
        "map(): Transforms elements of an iterable.\n",
        "reduce(): Reduces an iterable to a single value.\n",
        "filter(): Filters elements of an iterable based on a condition."
      ],
      "metadata": {
        "id": "jvAsORToklSx"
      }
    },
    {
      "cell_type": "markdown",
      "source": [
        "(11) Using pen & Paper write the internal mechanism for sum operation using  reduce function on this given list:[47,11,42,13]; (Attach paper image for this answer) in doc or colab notebook.\n"
      ],
      "metadata": {
        "id": "Jpmi3oRUlYrD"
      }
    }
  ]
}